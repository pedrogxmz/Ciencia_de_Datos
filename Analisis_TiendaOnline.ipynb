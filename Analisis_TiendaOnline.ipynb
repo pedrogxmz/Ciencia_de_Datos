{
  "cells": [
    {
      "cell_type": "markdown",
      "metadata": {
        "id": "5Vb3unWLEtyo"
      },
      "source": [
        "# Analisis de las ventas de una tienda en línea"
      ]
    },
    {
      "cell_type": "markdown",
      "metadata": {
        "id": "QEDAtzwhEtyp"
      },
      "source": [
        "## Integrantes\n",
        "\n",
        "Nombre 1: Marco Alessandro Contreras Solís\n",
        "\n",
        "Nombre 2: Pedro Gomez Alvarez"
      ]
    },
    {
      "cell_type": "markdown",
      "metadata": {
        "id": "fciRHd7nEtyq"
      },
      "source": [
        "### Ejercicio\n",
        "\n",
        "Utilzar los archivos \"datos/ventas/*.txt\" para contestar las siguientes preguntas. A continuación el código propuesto para obtener el dataframe:\n",
        "\n",
        "```python\n",
        "files = glob('datos/Ventas/*.txt')\n",
        "df =  pd.concat((pd.read_csv(file) for file in files))\n",
        "df=df.dropna(axis='rows',how='any')\n",
        "df=df[df['Quantity Ordered']!='Quantity Ordered']\n",
        "```"
      ]
    },
    {
      "cell_type": "code",
      "execution_count": 2,
      "metadata": {
        "colab": {
          "base_uri": "https://localhost:8080/",
          "height": 206
        },
        "id": "OWraecA9HSko",
        "outputId": "53fb76e4-3e1d-4512-c317-d454f4086a53"
      },
      "outputs": [
        {
          "data": {
            "text/html": [
              "<div>\n",
              "<style scoped>\n",
              "    .dataframe tbody tr th:only-of-type {\n",
              "        vertical-align: middle;\n",
              "    }\n",
              "\n",
              "    .dataframe tbody tr th {\n",
              "        vertical-align: top;\n",
              "    }\n",
              "\n",
              "    .dataframe thead th {\n",
              "        text-align: right;\n",
              "    }\n",
              "</style>\n",
              "<table border=\"1\" class=\"dataframe\">\n",
              "  <thead>\n",
              "    <tr style=\"text-align: right;\">\n",
              "      <th></th>\n",
              "      <th>Order ID</th>\n",
              "      <th>Product</th>\n",
              "      <th>Quantity Ordered</th>\n",
              "      <th>Price Each</th>\n",
              "      <th>Order Date</th>\n",
              "      <th>Purchase Address</th>\n",
              "    </tr>\n",
              "  </thead>\n",
              "  <tbody>\n",
              "    <tr>\n",
              "      <th>0</th>\n",
              "      <td>176558</td>\n",
              "      <td>USB-C Charging Cable</td>\n",
              "      <td>2</td>\n",
              "      <td>11.95</td>\n",
              "      <td>04/19/19 08:46</td>\n",
              "      <td>917 1st St, Dallas, TX 75001</td>\n",
              "    </tr>\n",
              "    <tr>\n",
              "      <th>2</th>\n",
              "      <td>176559</td>\n",
              "      <td>Bose SoundSport Headphones</td>\n",
              "      <td>1</td>\n",
              "      <td>99.99</td>\n",
              "      <td>04/07/19 22:30</td>\n",
              "      <td>682 Chestnut St, Boston, MA 02215</td>\n",
              "    </tr>\n",
              "    <tr>\n",
              "      <th>3</th>\n",
              "      <td>176560</td>\n",
              "      <td>Google Phone</td>\n",
              "      <td>1</td>\n",
              "      <td>600</td>\n",
              "      <td>04/12/19 14:38</td>\n",
              "      <td>669 Spruce St, Los Angeles, CA 90001</td>\n",
              "    </tr>\n",
              "    <tr>\n",
              "      <th>4</th>\n",
              "      <td>176560</td>\n",
              "      <td>Wired Headphones</td>\n",
              "      <td>1</td>\n",
              "      <td>11.99</td>\n",
              "      <td>04/12/19 14:38</td>\n",
              "      <td>669 Spruce St, Los Angeles, CA 90001</td>\n",
              "    </tr>\n",
              "    <tr>\n",
              "      <th>5</th>\n",
              "      <td>176561</td>\n",
              "      <td>Wired Headphones</td>\n",
              "      <td>1</td>\n",
              "      <td>11.99</td>\n",
              "      <td>04/30/19 09:27</td>\n",
              "      <td>333 8th St, Los Angeles, CA 90001</td>\n",
              "    </tr>\n",
              "  </tbody>\n",
              "</table>\n",
              "</div>"
            ],
            "text/plain": [
              "  Order ID                     Product Quantity Ordered Price Each  \\\n",
              "0   176558        USB-C Charging Cable                2      11.95   \n",
              "2   176559  Bose SoundSport Headphones                1      99.99   \n",
              "3   176560                Google Phone                1        600   \n",
              "4   176560            Wired Headphones                1      11.99   \n",
              "5   176561            Wired Headphones                1      11.99   \n",
              "\n",
              "       Order Date                      Purchase Address  \n",
              "0  04/19/19 08:46          917 1st St, Dallas, TX 75001  \n",
              "2  04/07/19 22:30     682 Chestnut St, Boston, MA 02215  \n",
              "3  04/12/19 14:38  669 Spruce St, Los Angeles, CA 90001  \n",
              "4  04/12/19 14:38  669 Spruce St, Los Angeles, CA 90001  \n",
              "5  04/30/19 09:27     333 8th St, Los Angeles, CA 90001  "
            ]
          },
          "execution_count": 2,
          "metadata": {},
          "output_type": "execute_result"
        }
      ],
      "source": [
        "import pandas as pd\n",
        "import numpy as np\n",
        "import matplotlib.pyplot as plt\n",
        "import glob\n",
        "from datetime import datetime\n",
        "files = glob.glob('datos/Ventas/*.txt')\n",
        "df =  pd.concat((pd.read_csv(file) for file in files))\n",
        "df=df.dropna(axis='rows',how='any')\n",
        "df=df[df['Quantity Ordered']!='Quantity Ordered']\n",
        "df.head()"
      ]
    },
    {
      "cell_type": "code",
      "execution_count": 3,
      "metadata": {
        "colab": {
          "base_uri": "https://localhost:8080/",
          "height": 455
        },
        "id": "ebAWSOwkOeuz",
        "outputId": "ad443f0c-59b2-4d0c-8317-5255144451d5"
      },
      "outputs": [
        {
          "data": {
            "text/html": [
              "<div>\n",
              "<style scoped>\n",
              "    .dataframe tbody tr th:only-of-type {\n",
              "        vertical-align: middle;\n",
              "    }\n",
              "\n",
              "    .dataframe tbody tr th {\n",
              "        vertical-align: top;\n",
              "    }\n",
              "\n",
              "    .dataframe thead th {\n",
              "        text-align: right;\n",
              "    }\n",
              "</style>\n",
              "<table border=\"1\" class=\"dataframe\">\n",
              "  <thead>\n",
              "    <tr style=\"text-align: right;\">\n",
              "      <th></th>\n",
              "      <th>Order ID</th>\n",
              "      <th>Product</th>\n",
              "      <th>Quantity Ordered</th>\n",
              "      <th>Price Each</th>\n",
              "      <th>Purchase Address</th>\n",
              "    </tr>\n",
              "    <tr>\n",
              "      <th>Order Date</th>\n",
              "      <th></th>\n",
              "      <th></th>\n",
              "      <th></th>\n",
              "      <th></th>\n",
              "      <th></th>\n",
              "    </tr>\n",
              "  </thead>\n",
              "  <tbody>\n",
              "    <tr>\n",
              "      <th>2019-04-19 08:46:00</th>\n",
              "      <td>176558</td>\n",
              "      <td>USB-C Charging Cable</td>\n",
              "      <td>2</td>\n",
              "      <td>11.95</td>\n",
              "      <td>917 1st St, Dallas, TX 75001</td>\n",
              "    </tr>\n",
              "    <tr>\n",
              "      <th>2019-04-07 22:30:00</th>\n",
              "      <td>176559</td>\n",
              "      <td>Bose SoundSport Headphones</td>\n",
              "      <td>1</td>\n",
              "      <td>99.99</td>\n",
              "      <td>682 Chestnut St, Boston, MA 02215</td>\n",
              "    </tr>\n",
              "    <tr>\n",
              "      <th>2019-04-12 14:38:00</th>\n",
              "      <td>176560</td>\n",
              "      <td>Google Phone</td>\n",
              "      <td>1</td>\n",
              "      <td>600</td>\n",
              "      <td>669 Spruce St, Los Angeles, CA 90001</td>\n",
              "    </tr>\n",
              "    <tr>\n",
              "      <th>2019-04-12 14:38:00</th>\n",
              "      <td>176560</td>\n",
              "      <td>Wired Headphones</td>\n",
              "      <td>1</td>\n",
              "      <td>11.99</td>\n",
              "      <td>669 Spruce St, Los Angeles, CA 90001</td>\n",
              "    </tr>\n",
              "    <tr>\n",
              "      <th>2019-04-30 09:27:00</th>\n",
              "      <td>176561</td>\n",
              "      <td>Wired Headphones</td>\n",
              "      <td>1</td>\n",
              "      <td>11.99</td>\n",
              "      <td>333 8th St, Los Angeles, CA 90001</td>\n",
              "    </tr>\n",
              "    <tr>\n",
              "      <th>...</th>\n",
              "      <td>...</td>\n",
              "      <td>...</td>\n",
              "      <td>...</td>\n",
              "      <td>...</td>\n",
              "      <td>...</td>\n",
              "    </tr>\n",
              "    <tr>\n",
              "      <th>2019-09-17 20:56:00</th>\n",
              "      <td>259353</td>\n",
              "      <td>AAA Batteries (4-pack)</td>\n",
              "      <td>3</td>\n",
              "      <td>2.99</td>\n",
              "      <td>840 Highland St, Los Angeles, CA 90001</td>\n",
              "    </tr>\n",
              "    <tr>\n",
              "      <th>2019-09-01 16:00:00</th>\n",
              "      <td>259354</td>\n",
              "      <td>iPhone</td>\n",
              "      <td>1</td>\n",
              "      <td>700</td>\n",
              "      <td>216 Dogwood St, San Francisco, CA 94016</td>\n",
              "    </tr>\n",
              "    <tr>\n",
              "      <th>2019-09-23 07:39:00</th>\n",
              "      <td>259355</td>\n",
              "      <td>iPhone</td>\n",
              "      <td>1</td>\n",
              "      <td>700</td>\n",
              "      <td>220 12th St, San Francisco, CA 94016</td>\n",
              "    </tr>\n",
              "    <tr>\n",
              "      <th>2019-09-19 17:30:00</th>\n",
              "      <td>259356</td>\n",
              "      <td>34in Ultrawide Monitor</td>\n",
              "      <td>1</td>\n",
              "      <td>379.99</td>\n",
              "      <td>511 Forest St, San Francisco, CA 94016</td>\n",
              "    </tr>\n",
              "    <tr>\n",
              "      <th>2019-09-30 00:18:00</th>\n",
              "      <td>259357</td>\n",
              "      <td>USB-C Charging Cable</td>\n",
              "      <td>1</td>\n",
              "      <td>11.95</td>\n",
              "      <td>250 Meadow St, San Francisco, CA 94016</td>\n",
              "    </tr>\n",
              "  </tbody>\n",
              "</table>\n",
              "<p>185950 rows × 5 columns</p>\n",
              "</div>"
            ],
            "text/plain": [
              "                    Order ID                     Product Quantity Ordered  \\\n",
              "Order Date                                                                  \n",
              "2019-04-19 08:46:00   176558        USB-C Charging Cable                2   \n",
              "2019-04-07 22:30:00   176559  Bose SoundSport Headphones                1   \n",
              "2019-04-12 14:38:00   176560                Google Phone                1   \n",
              "2019-04-12 14:38:00   176560            Wired Headphones                1   \n",
              "2019-04-30 09:27:00   176561            Wired Headphones                1   \n",
              "...                      ...                         ...              ...   \n",
              "2019-09-17 20:56:00   259353      AAA Batteries (4-pack)                3   \n",
              "2019-09-01 16:00:00   259354                      iPhone                1   \n",
              "2019-09-23 07:39:00   259355                      iPhone                1   \n",
              "2019-09-19 17:30:00   259356      34in Ultrawide Monitor                1   \n",
              "2019-09-30 00:18:00   259357        USB-C Charging Cable                1   \n",
              "\n",
              "                    Price Each                         Purchase Address  \n",
              "Order Date                                                               \n",
              "2019-04-19 08:46:00      11.95             917 1st St, Dallas, TX 75001  \n",
              "2019-04-07 22:30:00      99.99        682 Chestnut St, Boston, MA 02215  \n",
              "2019-04-12 14:38:00        600     669 Spruce St, Los Angeles, CA 90001  \n",
              "2019-04-12 14:38:00      11.99     669 Spruce St, Los Angeles, CA 90001  \n",
              "2019-04-30 09:27:00      11.99        333 8th St, Los Angeles, CA 90001  \n",
              "...                        ...                                      ...  \n",
              "2019-09-17 20:56:00       2.99   840 Highland St, Los Angeles, CA 90001  \n",
              "2019-09-01 16:00:00        700  216 Dogwood St, San Francisco, CA 94016  \n",
              "2019-09-23 07:39:00        700     220 12th St, San Francisco, CA 94016  \n",
              "2019-09-19 17:30:00     379.99   511 Forest St, San Francisco, CA 94016  \n",
              "2019-09-30 00:18:00      11.95   250 Meadow St, San Francisco, CA 94016  \n",
              "\n",
              "[185950 rows x 5 columns]"
            ]
          },
          "execution_count": 3,
          "metadata": {},
          "output_type": "execute_result"
        }
      ],
      "source": [
        "df['Order Date'] = pd.to_datetime(df['Order Date'], format= '%m/%d/%y %H:%M')\n",
        "df = df.set_index('Order Date')\n",
        "df"
      ]
    },
    {
      "cell_type": "markdown",
      "metadata": {
        "id": "A4vNVck3Etyq"
      },
      "source": [
        "<div class=\"alert alert-success\">\n",
        "    \n",
        "0. Explicar que hace el código de arriba\n",
        "    \n",
        "</div>"
      ]
    },
    {
      "cell_type": "markdown",
      "metadata": {
        "id": "o7CgKdC0L0ZV"
      },
      "source": [
        "1. La primera línea del código se encarga de buscar archivos .txt en una dirección (En este caso tuve que modificar la dirección dado que se trabajó en Google Colab) mediante la biblioteca 'glob'.\n",
        "\n",
        "2. La segunda línea lee todos los archivos .txt en la dirección dada en la linea anterior y los concatena en un DataFrame.\n",
        "\n",
        "3. La tercera línea filtra el DataFrame resultante eliminando las filas que contengan valores NaN en cualquier columna.\n",
        "\n",
        "4. Filtra las filas donde la columna 'Quantity Ordered' no sea igual a 'Quantity Ordered'.\n",
        "\n",
        "5. Muestra las primeras filas del DataFrame resultante."
      ]
    },
    {
      "cell_type": "markdown",
      "metadata": {
        "id": "6u5NX68nLfhP"
      },
      "source": [
        "Ahora se crea una columna auxiliar para los cálculos que se harán mas adelante. Esta columna tiene como nombre **'Venta Total'** y cuantifica el ingreso total de cada orden:"
      ]
    },
    {
      "cell_type": "code",
      "execution_count": 4,
      "metadata": {
        "colab": {
          "base_uri": "https://localhost:8080/",
          "height": 237
        },
        "id": "nbErVbsyLapS",
        "outputId": "41b6940a-7dd0-4097-8d3b-ed2a419eb1ee"
      },
      "outputs": [
        {
          "data": {
            "text/html": [
              "<div>\n",
              "<style scoped>\n",
              "    .dataframe tbody tr th:only-of-type {\n",
              "        vertical-align: middle;\n",
              "    }\n",
              "\n",
              "    .dataframe tbody tr th {\n",
              "        vertical-align: top;\n",
              "    }\n",
              "\n",
              "    .dataframe thead th {\n",
              "        text-align: right;\n",
              "    }\n",
              "</style>\n",
              "<table border=\"1\" class=\"dataframe\">\n",
              "  <thead>\n",
              "    <tr style=\"text-align: right;\">\n",
              "      <th></th>\n",
              "      <th>Order ID</th>\n",
              "      <th>Product</th>\n",
              "      <th>Quantity Ordered</th>\n",
              "      <th>Price Each</th>\n",
              "      <th>Purchase Address</th>\n",
              "      <th>Venta Total</th>\n",
              "    </tr>\n",
              "    <tr>\n",
              "      <th>Order Date</th>\n",
              "      <th></th>\n",
              "      <th></th>\n",
              "      <th></th>\n",
              "      <th></th>\n",
              "      <th></th>\n",
              "      <th></th>\n",
              "    </tr>\n",
              "  </thead>\n",
              "  <tbody>\n",
              "    <tr>\n",
              "      <th>2019-04-19 08:46:00</th>\n",
              "      <td>176558</td>\n",
              "      <td>USB-C Charging Cable</td>\n",
              "      <td>2</td>\n",
              "      <td>11.95</td>\n",
              "      <td>917 1st St, Dallas, TX 75001</td>\n",
              "      <td>23.90</td>\n",
              "    </tr>\n",
              "    <tr>\n",
              "      <th>2019-04-07 22:30:00</th>\n",
              "      <td>176559</td>\n",
              "      <td>Bose SoundSport Headphones</td>\n",
              "      <td>1</td>\n",
              "      <td>99.99</td>\n",
              "      <td>682 Chestnut St, Boston, MA 02215</td>\n",
              "      <td>99.99</td>\n",
              "    </tr>\n",
              "    <tr>\n",
              "      <th>2019-04-12 14:38:00</th>\n",
              "      <td>176560</td>\n",
              "      <td>Google Phone</td>\n",
              "      <td>1</td>\n",
              "      <td>600.00</td>\n",
              "      <td>669 Spruce St, Los Angeles, CA 90001</td>\n",
              "      <td>600.00</td>\n",
              "    </tr>\n",
              "    <tr>\n",
              "      <th>2019-04-12 14:38:00</th>\n",
              "      <td>176560</td>\n",
              "      <td>Wired Headphones</td>\n",
              "      <td>1</td>\n",
              "      <td>11.99</td>\n",
              "      <td>669 Spruce St, Los Angeles, CA 90001</td>\n",
              "      <td>11.99</td>\n",
              "    </tr>\n",
              "    <tr>\n",
              "      <th>2019-04-30 09:27:00</th>\n",
              "      <td>176561</td>\n",
              "      <td>Wired Headphones</td>\n",
              "      <td>1</td>\n",
              "      <td>11.99</td>\n",
              "      <td>333 8th St, Los Angeles, CA 90001</td>\n",
              "      <td>11.99</td>\n",
              "    </tr>\n",
              "  </tbody>\n",
              "</table>\n",
              "</div>"
            ],
            "text/plain": [
              "                    Order ID                     Product  Quantity Ordered  \\\n",
              "Order Date                                                                   \n",
              "2019-04-19 08:46:00   176558        USB-C Charging Cable                 2   \n",
              "2019-04-07 22:30:00   176559  Bose SoundSport Headphones                 1   \n",
              "2019-04-12 14:38:00   176560                Google Phone                 1   \n",
              "2019-04-12 14:38:00   176560            Wired Headphones                 1   \n",
              "2019-04-30 09:27:00   176561            Wired Headphones                 1   \n",
              "\n",
              "                     Price Each                      Purchase Address  \\\n",
              "Order Date                                                              \n",
              "2019-04-19 08:46:00       11.95          917 1st St, Dallas, TX 75001   \n",
              "2019-04-07 22:30:00       99.99     682 Chestnut St, Boston, MA 02215   \n",
              "2019-04-12 14:38:00      600.00  669 Spruce St, Los Angeles, CA 90001   \n",
              "2019-04-12 14:38:00       11.99  669 Spruce St, Los Angeles, CA 90001   \n",
              "2019-04-30 09:27:00       11.99     333 8th St, Los Angeles, CA 90001   \n",
              "\n",
              "                     Venta Total  \n",
              "Order Date                        \n",
              "2019-04-19 08:46:00        23.90  \n",
              "2019-04-07 22:30:00        99.99  \n",
              "2019-04-12 14:38:00       600.00  \n",
              "2019-04-12 14:38:00        11.99  \n",
              "2019-04-30 09:27:00        11.99  "
            ]
          },
          "execution_count": 4,
          "metadata": {},
          "output_type": "execute_result"
        }
      ],
      "source": [
        "df['Quantity Ordered'] = df['Quantity Ordered'].astype(int)\n",
        "df['Price Each'] = df['Price Each'].astype(float)\n",
        "df['Venta Total'] = df['Quantity Ordered']*df['Price Each']\n",
        "df.head()"
      ]
    },
    {
      "cell_type": "markdown",
      "metadata": {
        "id": "EI9pXYbdEtyr"
      },
      "source": [
        "<div class=\"alert alert-success\">\n",
        "    \n",
        "1. Encuentre el número de productos que se adquirieron en Los Angeles, CA\n",
        "    \n",
        "</div>"
      ]
    },
    {
      "cell_type": "code",
      "execution_count": 5,
      "metadata": {
        "colab": {
          "base_uri": "https://localhost:8080/"
        },
        "id": "OhNP9O4VRhrV",
        "outputId": "b4824ad7-f8e1-46d6-d8ca-a83743a9a652"
      },
      "outputs": [
        {
          "name": "stdout",
          "output_type": "stream",
          "text": [
            "El numero de productos adquiridos en Los Angeles es 33289\n"
          ]
        }
      ],
      "source": [
        "prod_LosAngeles = df[df['Purchase Address'].str.contains('Los Angeles')]['Quantity Ordered'].sum()\n",
        "\n",
        "print('El numero de productos adquiridos en Los Angeles es' , prod_LosAngeles)"
      ]
    },
    {
      "cell_type": "markdown",
      "metadata": {
        "id": "NCNFsWuwEtys"
      },
      "source": [
        "<div class=\"alert alert-success\">\n",
        "    \n",
        "2. ¿Cuántos iPhone se vendieron?\n",
        "\n",
        "    \n",
        "</div>"
      ]
    },
    {
      "cell_type": "code",
      "execution_count": 6,
      "metadata": {
        "colab": {
          "base_uri": "https://localhost:8080/"
        },
        "id": "sUfBj7dePRXw",
        "outputId": "243864e1-5b8f-4b1e-cc44-63ddc52f5e3a"
      },
      "outputs": [
        {
          "name": "stdout",
          "output_type": "stream",
          "text": [
            "Se vendieron 6849 iPhones\n"
          ]
        }
      ],
      "source": [
        "num_iPhone = df[df['Product'].str.contains('iPhone')]['Quantity Ordered'].sum()\n",
        "print('Se vendieron' , num_iPhone , 'iPhones')"
      ]
    },
    {
      "cell_type": "markdown",
      "metadata": {
        "id": "gg04kwpoEtys"
      },
      "source": [
        "<div class=\"alert alert-success\">\n",
        "    \n",
        "3. ¿Cuánto fue su ganancia por venta de baterías?\n",
        "    \n",
        "</div>"
      ]
    },
    {
      "cell_type": "code",
      "execution_count": 7,
      "metadata": {
        "colab": {
          "base_uri": "https://localhost:8080/"
        },
        "id": "7vsTpEUDgW93",
        "outputId": "fdc44d68-5ec1-4ef9-ccaa-d372464f64b3"
      },
      "outputs": [
        {
          "name": "stdout",
          "output_type": "stream",
          "text": [
            "La ganacia por venta de baterias asciende a unos $ 198859.23\n"
          ]
        }
      ],
      "source": [
        "bat_total_money = df[df['Product'].str.contains('Batteries')]['Venta Total'].sum()\n",
        "print('La ganacia por venta de baterias asciende a unos $',bat_total_money)"
      ]
    },
    {
      "cell_type": "markdown",
      "metadata": {
        "id": "2aQ-pqyEEtyt"
      },
      "source": [
        "<div class=\"alert alert-success\">\n",
        "    \n",
        "4. ¿Cuál fue el código postal que más ordenes realizó?\n",
        "\n",
        "    \n",
        "</div>"
      ]
    },
    {
      "cell_type": "code",
      "execution_count": 8,
      "metadata": {
        "colab": {
          "base_uri": "https://localhost:8080/"
        },
        "id": "GqgAWiYKg-Xj",
        "outputId": "34c342c1-0de5-4555-eea2-a4d9ee89d9ec"
      },
      "outputs": [
        {
          "name": "stdout",
          "output_type": "stream",
          "text": [
            "El codigo postal que mas ordenes realizo fue CA 94016\n"
          ]
        }
      ],
      "source": [
        "def codigo(direc):\n",
        "  cod = direc.split(', ')[-1]\n",
        "  return cod\n",
        "df['Codigo Postal'] = df['Purchase Address'].apply(codigo)\n",
        "vent_codigo = df['Codigo Postal'].value_counts()\n",
        "print('El codigo postal que mas ordenes realizo fue' , vent_codigo.index[0])"
      ]
    },
    {
      "cell_type": "markdown",
      "metadata": {
        "id": "5ww0ygAlEtyt"
      },
      "source": [
        "<div class=\"alert alert-success\">\n",
        "    \n",
        "5.  a) ¿Cuál fue el producto con más ganancias?\n",
        "    \n",
        "    b) ¿Cuál fue el producto con más unidades vendidas?\n",
        "\n",
        "    \n",
        "</div>"
      ]
    },
    {
      "cell_type": "code",
      "execution_count": 9,
      "metadata": {
        "colab": {
          "base_uri": "https://localhost:8080/"
        },
        "id": "7BFOj1xWjcqA",
        "outputId": "8bb71b06-ec69-49da-a0cd-153e1444718d"
      },
      "outputs": [
        {
          "name": "stdout",
          "output_type": "stream",
          "text": [
            "a) El producto con mas ganancias es Macbook Pro Laptop\n",
            "b) El producto con mas unidades vendidas es AAA Batteries (4-pack)\n"
          ]
        }
      ],
      "source": [
        "max_gan = df.groupby('Product')['Venta Total'].sum().idxmax()\n",
        "\n",
        "max_prod = df.groupby('Product')['Quantity Ordered'].sum().idxmax()\n",
        "\n",
        "print('a) El producto con mas ganancias es' , max_gan)\n",
        "print('b) El producto con mas unidades vendidas es' , max_prod)"
      ]
    },
    {
      "cell_type": "markdown",
      "metadata": {
        "id": "bKOGhF-nEtyt"
      },
      "source": [
        "<div class=\"alert alert-success\">\n",
        "    \n",
        "6. ¿Cuales son los 5 productos más vendidos?     \n",
        "</div>"
      ]
    },
    {
      "cell_type": "code",
      "execution_count": 10,
      "metadata": {
        "colab": {
          "base_uri": "https://localhost:8080/"
        },
        "id": "xFwrIVjplBum",
        "outputId": "ff4c5cbd-757f-475f-c16a-f32ab4505167"
      },
      "outputs": [
        {
          "name": "stdout",
          "output_type": "stream",
          "text": [
            "Los 5 productos mas vendidos son:\n",
            "AAA Batteries (4-pack)\n",
            "AA Batteries (4-pack)\n",
            "USB-C Charging Cable\n",
            "Lightning Charging Cable\n",
            "Wired Headphones\n"
          ]
        }
      ],
      "source": [
        "prod_ven = df.groupby('Product')['Quantity Ordered'].sum().sort_values(ascending = False)\n",
        "print('Los 5 productos mas vendidos son:' )\n",
        "for i in prod_ven.index[0:5]:\n",
        "  print(i)"
      ]
    },
    {
      "cell_type": "markdown",
      "metadata": {
        "id": "4Zg0hAHDEtyt"
      },
      "source": [
        "<div class=\"alert alert-success\">\n",
        "    \n",
        "7.  ¿Cuales son los 5 productos con las ganancias más altas?\n",
        "\n",
        "    \n",
        "</div>"
      ]
    },
    {
      "cell_type": "code",
      "execution_count": 11,
      "metadata": {
        "colab": {
          "base_uri": "https://localhost:8080/"
        },
        "id": "g3gMBsDYl3Fy",
        "outputId": "3cc3a6a2-0c8b-42ef-d0e0-547dae88e473"
      },
      "outputs": [
        {
          "name": "stdout",
          "output_type": "stream",
          "text": [
            "Los 5 productos con las ganancias mas altas son:\n",
            "Macbook Pro Laptop\n",
            "iPhone\n",
            "ThinkPad Laptop\n",
            "Google Phone\n",
            "27in 4K Gaming Monitor\n"
          ]
        }
      ],
      "source": [
        "prod_gan = df.groupby('Product')['Venta Total'].sum().sort_values(ascending = False)\n",
        "print('Los 5 productos con las ganancias mas altas son:' )\n",
        "for i in prod_gan.index[0:5]:\n",
        "  print(i)"
      ]
    },
    {
      "cell_type": "markdown",
      "metadata": {
        "id": "uYR6NVypEtyt"
      },
      "source": [
        "<div class=\"alert alert-success\">\n",
        "    \n",
        "8. ¿A qué hora recomendaría mostrar anuncios para maximizar la probabilidad de que el cliente compre un producto?     \n",
        "</div>"
      ]
    },
    {
      "cell_type": "code",
      "execution_count": 12,
      "metadata": {
        "colab": {
          "base_uri": "https://localhost:8080/"
        },
        "id": "Q2dEFJ1hmGTG",
        "outputId": "c1030ec6-9759-4b9a-c294-d214e22df7f0"
      },
      "outputs": [
        {
          "name": "stdout",
          "output_type": "stream",
          "text": [
            "El anuncio puede publicarse de 19:00 hasta 20:00\n"
          ]
        }
      ],
      "source": [
        "\n",
        "hora=df['Order ID'].groupby(df.to_period('H').index.strftime('%H:%M')).count().idxmax()\n",
        "hora_final=datetime.strptime(hora,'%H:%M')+pd.Timedelta('1H')\n",
        "print('El anuncio puede publicarse de',hora,'hasta',hora_final.strftime('%H:%M'))\n",
        "\n"
      ]
    },
    {
      "cell_type": "markdown",
      "metadata": {
        "id": "5t2CHCMlEtyu"
      },
      "source": [
        "<div class=\"alert alert-success\">\n",
        "    \n",
        " 9.\n",
        "    a) ¿Cuál es el día de más ganancias por cada mes?\n",
        "    \n",
        "    b) ¿Cuál es el mes con más ganancias y el de menos ganancias?\n",
        "    \n",
        "</div>"
      ]
    },
    {
      "cell_type": "code",
      "execution_count": 13,
      "metadata": {
        "colab": {
          "base_uri": "https://localhost:8080/"
        },
        "id": "Bpn4J1aBB6az",
        "outputId": "365fd66a-da9f-4b3f-9564-ea9fea896407"
      },
      "outputs": [
        {
          "name": "stdout",
          "output_type": "stream",
          "text": [
            "El dia con más ganancias es 31-January-19\n",
            "El dia con menos ganancias es 01-January-20 \n",
            "\n",
            "El dia con más ganancias es 26-February-19\n",
            "El dia con menos ganancias es 15-February-19 \n",
            "\n",
            "El dia con más ganancias es 08-March-19\n",
            "El dia con menos ganancias es 01-March-19 \n",
            "\n",
            "El dia con más ganancias es 27-April-19\n",
            "El dia con menos ganancias es 27-April-19 \n",
            "\n",
            "El dia con más ganancias es 13-May-19\n",
            "El dia con menos ganancias es 15-May-19 \n",
            "\n",
            "El dia con más ganancias es 08-June-19\n",
            "El dia con menos ganancias es 13-June-19 \n",
            "\n",
            "El dia con más ganancias es 24-July-19\n",
            "El dia con menos ganancias es 05-July-19 \n",
            "\n",
            "El dia con más ganancias es 07-August-19\n",
            "El dia con menos ganancias es 15-August-19 \n",
            "\n",
            "El dia con más ganancias es 02-September-19\n",
            "El dia con menos ganancias es 01-September-19 \n",
            "\n",
            "El dia con más ganancias es 02-October-19\n",
            "El dia con menos ganancias es 01-October-19 \n",
            "\n",
            "El dia con más ganancias es 09-November-19\n",
            "El dia con menos ganancias es 23-November-19 \n",
            "\n",
            "El dia con más ganancias es 30-December-19\n",
            "El dia con menos ganancias es 26-December-19 \n",
            "\n"
          ]
        }
      ],
      "source": [
        "#a)\n",
        "for mes in range(1,13):\n",
        "  max=df[df.index.month==mes]['Venta Total'].idxmax().strftime('%d-%B-%y')\n",
        "  min=df[df.index.month==mes]['Venta Total'].idxmin().strftime('%d-%B-%y')\n",
        "  print('El dia con más ganancias es', max)\n",
        "  print('El dia con menos ganancias es', min,'\\n')\n",
        "\n"
      ]
    },
    {
      "cell_type": "code",
      "execution_count": 14,
      "metadata": {
        "colab": {
          "base_uri": "https://localhost:8080/"
        },
        "id": "eesFwb9HPJml",
        "outputId": "1706bf33-f5fa-44b4-a84c-e69386368036"
      },
      "outputs": [
        {
          "name": "stdout",
          "output_type": "stream",
          "text": [
            "b )El mes con mas ganancias es el 2019-12, mientras que el mes con menos ganancias es el 2020-01\n"
          ]
        }
      ],
      "source": [
        "#b)\n",
        "max_m = df.groupby(df.index.to_period('M'))['Venta Total'].sum().idxmax()\n",
        "min_m = df.groupby(df.index.to_period('M'))['Venta Total'].sum().idxmin()\n",
        "print(f'b )El mes con mas ganancias es el {max_m}, mientras que el mes con menos ganancias es el {min_m}')"
      ]
    },
    {
      "cell_type": "markdown",
      "metadata": {
        "id": "OabzKj1SEtyu"
      },
      "source": [
        "<div class=\"alert alert-success\">\n",
        "    \n",
        "10. ¿Cuál fue el producto más comprado en San Francisco, CA\n",
        "    \n",
        "</div>"
      ]
    },
    {
      "cell_type": "code",
      "execution_count": 15,
      "metadata": {
        "colab": {
          "base_uri": "https://localhost:8080/"
        },
        "id": "T9L0bWD3pinF",
        "outputId": "e50c3bd6-59ef-4ece-bfef-2a3abf2f27bb"
      },
      "outputs": [
        {
          "name": "stdout",
          "output_type": "stream",
          "text": [
            "El producto que mas se vendio en San Francisco, CA es AAA Batteries (4-pack)\n"
          ]
        }
      ],
      "source": [
        "max_sanF = df[df['Purchase Address'].str.contains('San Francisco, C')].groupby('Product')['Quantity Ordered'].sum().sort_values(ascending = False)\n",
        "print('El producto que mas se vendio en San Francisco, CA es' , max_sanF.idxmax())"
      ]
    },
    {
      "cell_type": "markdown",
      "metadata": {
        "id": "Im_11uLTEtyu"
      },
      "source": [
        "<div class=\"alert alert-success\">\n",
        "    \n",
        "11. Escribir una conclusión del ejercicio (ventajas de usar pandas, herramientas mas utilizadas en este ejercicio, etc).\n",
        "    \n",
        "</div>"
      ]
    },
    {
      "cell_type": "markdown",
      "metadata": {
        "id": "cotbuIHDQ89W"
      },
      "source": [
        "La realización de este ejercicio nos ayudó a ver la utilidad de Pandas así como su facilidad para poder realizar operaciones que en otros lenguajes de programación serían bastante complejas. Los DataFrames son elementos a los que estamos acostumbrados cotidianamente pero Pandas permite trabajar con ellos de manera muy sencilla y obtener información muy valiosa.\n",
        "En esta notebook las herramientas de agrupamiento fueron las más utilizadas porque nos permiten filtrar información para obtener datos más precisos. Trabajar con marcas temporales como las de esta notebook se vuelven tareas sencillas gracias al uso de las librerías y se pueden obtener gráficas muy valiosas debido a estos agrupamientos.\n",
        "Otra gran ventaja de esta librería es su documentación y cantidad de ejemplos disponibles en la red que permiten resolver cientos de problemas con los que nos podamos topar."
      ]
    }
  ],
  "metadata": {
    "colab": {
      "provenance": []
    },
    "kernelspec": {
      "display_name": "Python 3 (ipykernel)",
      "language": "python",
      "name": "python3"
    },
    "language_info": {
      "codemirror_mode": {
        "name": "ipython",
        "version": 3
      },
      "file_extension": ".py",
      "mimetype": "text/x-python",
      "name": "python",
      "nbconvert_exporter": "python",
      "pygments_lexer": "ipython3",
      "version": "3.10.0"
    }
  },
  "nbformat": 4,
  "nbformat_minor": 0
}

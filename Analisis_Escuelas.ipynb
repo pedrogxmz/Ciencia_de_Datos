{
 "cells": [
  {
   "cell_type": "markdown",
   "metadata": {},
   "source": [
    "# Escuelas Jalisco\n",
    "\n",
    "Aproximadamente 96 de cada 100 mexicanos entre tres y catorce años de edad asiste a la escuela en los tres niveles de educación básica (preescolar, primaria y secundaria).  El 90.1% acude a escuelas públicas y el 9.9%, a escuelas privadas.\n",
    "\n",
    "https://blog.uvm.mx/10-datos-sobre-la-educacion-en-mexico\n"
   ]
  },
  {
   "cell_type": "markdown",
   "metadata": {},
   "source": [
    "# Librerías"
   ]
  },
  {
   "cell_type": "markdown",
   "metadata": {},
   "source": [
    "Cargamos las bibliotecas que necesitamos "
   ]
  },
  {
   "cell_type": "code",
   "execution_count": 1,
   "metadata": {
    "tags": []
   },
   "outputs": [],
   "source": [
    "import csv\n",
    "import matplotlib.pyplot as plt"
   ]
  },
  {
   "cell_type": "code",
   "execution_count": null,
   "metadata": {
    "scrolled": true
   },
   "outputs": [],
   "source": [
    "#Leer el archivo datos/cct_estadistica_short.csv\n",
    "with open ('D:\\Documentos\\Ingenieria_en_Mecatronica\\9no_semestre\\Ciencia_de_Datos\\Repo_Github\\Ciencia_de_Datos\\datos\\cct_estadistica_short.csv') as archivo_csv:\n",
    "    datos_csv = list(csv.reader(archivo_csv))\n",
    "    print(datos_csv)"
   ]
  },
  {
   "cell_type": "markdown",
   "metadata": {},
   "source": [
    "<div class=\"alert alert-info\">\n",
    " <ul>\n",
    "  <li>Monstrar la primera fila del archivo</li>\n",
    "</ul> \n",
    "\n",
    "</div>"
   ]
  },
  {
   "cell_type": "code",
   "execution_count": 7,
   "metadata": {},
   "outputs": [
    {
     "name": "stdout",
     "output_type": "stream",
     "text": [
      "['CLAVE CT', 'NOM TURNO', 'NOMBRE CT', 'DOMICILIO', 'LOCALIDAD INEGI', ' NOMBRE LOCALIDAD', 'NOMBRE COLONIA', 'MUNICIPIO', 'NOMBRE MUNICIPIO', 'SOSTENIMIENTO', 'NIVEL', 'PROGRAMA', 'HOMBRES 1¡', 'MUJERES 1¡', 'TOTAL 1¡', 'HOMBRES 2¡', 'MUJERES 2¡', 'TOTAL 2¡', 'HOMBRES 3¡', 'MUJERES 3¡', 'TOTAL 3¡', 'HOMBRES 4¡', 'MUJERES 4¡', 'TOTAL 4¡', 'HOMBRES 5¡', 'MUJERES 5¡', 'TOTAL 5¡', 'HOMBRES 6¡', 'MUJERES 6¡', 'TOTAL 6¡', 'HOMBRES TOTAL', 'MUJERES TOTAL', 'MATRICULA TOTAL', 'DOCENTES', 'GRUPOS', 'DOCENETE EDUCACION FISICA', 'DOCENTE ACTIVIDADES ARTISTICAS', 'DOCENTE ACTIVIDADES TECNONOLOGICAS', 'DOCENTE DE IDIOMAS', 'PERSONAL DE ADMINISTRATIVO Y SERVICIOS', 'DIRECTOR CON GRUPO', 'DIRECTOR SIN GRUPO', 'TOTAL DE PERSONAL']\n"
     ]
    }
   ],
   "source": [
    "\n",
    "print(datos_csv[0])"
   ]
  },
  {
   "cell_type": "markdown",
   "metadata": {},
   "source": [
    "<div class=\"alert alert-info\">\n",
    " <ul>\n",
    "  <li>Monstrar la segunda fila del archivo</li>\n",
    "</ul> \n",
    "\n",
    "</div>"
   ]
  },
  {
   "cell_type": "code",
   "execution_count": 4,
   "metadata": {},
   "outputs": [
    {
     "name": "stdout",
     "output_type": "stream",
     "text": [
      "['14DPR3480S', 'VESPERTINO', 'MIGUEL HIDALGO Y COSTILLA', 'RIO SANTIAGO', '1', 'TIZAPAN EL ALTO', 'ATRACADERO', '96', 'TIZAPAN EL ALTO', 'FEDERALIZADO', 'PRIMARIA', 'GENERAL', '4', '11', '15', '11', '8', '19', '11', '5', '16', '11', '5', '16', '5', '5', '10', '9', '8', '17', '51', '42', '93', '6', '6', '1', '0', '0', '0', '0', '0', '1', '8']\n"
     ]
    }
   ],
   "source": [
    "with open('datos/cct_estadistica_short.csv') as archivo_csv:\n",
    "    datos_csv = list( csv.reader(archivo_csv) )\n",
    "print(datos_csv[1])"
   ]
  },
  {
   "cell_type": "markdown",
   "metadata": {},
   "source": [
    "\n",
    "<div class=\"alert alert-info\">\n",
    " <ul>\n",
    "  <li>Monstrar la tercera fila del archivo</li>\n",
    "</ul> \n",
    "\n",
    "</div>"
   ]
  },
  {
   "cell_type": "code",
   "execution_count": 2,
   "metadata": {},
   "outputs": [
    {
     "name": "stdout",
     "output_type": "stream",
     "text": [
      "['14DPR2780I', 'MATUTINO', 'CONSTITUCION DEL 57', 'CONOCIDO', '54', 'MESA DE MENDEZ', '0', '16', 'AYOTLAN', 'FEDERALIZADO', 'PRIMARIA', 'GENERAL', '1', '2', '3', '0', '0', '0', '1', '1', '2', '2', '0', '2', '0', '0', '0', '1', '0', '1', '5', '3', '8', '1', '1', '0', '0', '0', '0', '0', '1', '0', '1']\n"
     ]
    }
   ],
   "source": [
    "with open('datos/cct_estadistica_short.csv') as archivo_csv:\n",
    "    datos_csv = list( csv.reader(archivo_csv) )\n",
    "print(datos_csv[2])"
   ]
  },
  {
   "cell_type": "markdown",
   "metadata": {},
   "source": [
    "<div class=\"alert alert-info\">\n",
    " <ul>\n",
    "  <li>Monstrar de la tercera fila del archivo, el municipio donde se encuentra la escuela </li>\n",
    "</ul> \n",
    "\n",
    "</div>"
   ]
  },
  {
   "cell_type": "code",
   "execution_count": 3,
   "metadata": {},
   "outputs": [
    {
     "name": "stdout",
     "output_type": "stream",
     "text": [
      "AYOTLAN\n"
     ]
    }
   ],
   "source": [
    "with open('datos/cct_estadistica_short.csv') as archivo_csv:\n",
    "    datos_csv = list( csv.reader(archivo_csv) )\n",
    "    print(datos_csv[2][8])"
   ]
  },
  {
   "cell_type": "markdown",
   "metadata": {},
   "source": [
    "<div class=\"alert alert-info\">\n",
    " <ul>\n",
    "  <li>Encuentre el número de escuelas en el archivo</li>\n",
    "</ul> \n",
    "\n",
    "</div>"
   ]
  },
  {
   "cell_type": "code",
   "execution_count": 4,
   "metadata": {},
   "outputs": [
    {
     "name": "stdout",
     "output_type": "stream",
     "text": [
      "El numero de escuelas es: 3205\n"
     ]
    }
   ],
   "source": [
    "with open('datos/cct_estadistica_short.csv') as archivo_csv:\n",
    "    datos_csv = list( csv.reader(archivo_csv) )\n",
    "contador_escuelas=0\n",
    "for dato in datos_csv:\n",
    "    contador_escuelas= contador_escuelas+1\n",
    "print(\"El numero de escuelas es:\",contador_escuelas-1)\n"
   ]
  },
  {
   "cell_type": "markdown",
   "metadata": {},
   "source": [
    "<div class=\"alert alert-info\">\n",
    " <ul>\n",
    "  <li>Encuentre el número de escuelas de nivel: PRIMARIA</li>\n",
    "</ul> \n",
    "\n",
    "</div>"
   ]
  },
  {
   "cell_type": "code",
   "execution_count": 5,
   "metadata": {},
   "outputs": [
    {
     "name": "stdout",
     "output_type": "stream",
     "text": [
      " Numero de primarias : 1278\n"
     ]
    }
   ],
   "source": [
    "contador_PRIMARIA=0\n",
    "contador_PRIMARIA=0\n",
    "\n",
    "with open('datos/cct_estadistica_short.csv') as archivo_csv:\n",
    "    datos_csv = list( csv.reader(archivo_csv) )\n",
    "    for dato in datos_csv:\n",
    "        #print(dato[10])\n",
    "        if dato[10] == 'PRIMARIA':\n",
    "            contador_PRIMARIA = contador_PRIMARIA + 1\n",
    "\n",
    "print(' Numero de primarias :', contador_PRIMARIA)"
   ]
  },
  {
   "cell_type": "markdown",
   "metadata": {},
   "source": [
    "<div class=\"alert alert-info\">\n",
    " <ul>\n",
    "  <li>Encuentre el porcentaje de  escuelas PREESCOLAR, PRIMARIA,  SECUNDARIA y BACHILLERATO </li>\n",
    "</ul> \n",
    "\n",
    "</div>"
   ]
  },
  {
   "cell_type": "code",
   "execution_count": 6,
   "metadata": {},
   "outputs": [
    {
     "name": "stdout",
     "output_type": "stream",
     "text": [
      "Porcentaje de PREESCOLAR 40.343213728549145 %\n",
      "Porcentaje de PRIMARIA 39.875195007800315 %\n",
      "Porcentaje de SECUNDARIA 15.132605304212168 %\n",
      "Porcentaje de BACHILLERATO 4.648985959438377 %\n"
     ]
    }
   ],
   "source": [
    "contador_escuelas=0\n",
    "contador_PREESCOLAR=0\n",
    "contador_PRIMARIA=0\n",
    "contador_SECUNDARIA=0\n",
    "contador_BACHILLERATO=0\n",
    "\n",
    "with open('datos/cct_estadistica_short.csv') as archivo_csv:\n",
    "    datos_csv = list(csv.reader(archivo_csv))\n",
    "for dato in datos_csv:\n",
    "    if dato[10] == 'PREESCOLAR':\n",
    "        contador_PREESCOLAR=contador_PREESCOLAR+1\n",
    "    elif dato[10] == 'PRIMARIA':\n",
    "        contador_PRIMARIA=contador_PRIMARIA+1\n",
    "    elif dato[10] == 'SECUNDARIA':\n",
    "        contador_SECUNDARIA=contador_SECUNDARIA+1\n",
    "    elif dato[10] == 'BACHILLERATO':\n",
    "        contador_BACHILLERATO=contador_BACHILLERATO+1\n",
    "    contador_escuelas=contador_escuelas+1\n",
    "contador_escuelas-=1        \n",
    "print(\"Porcentaje de PREESCOLAR\",  (contador_PREESCOLAR/contador_escuelas)*100, \"%\")\n",
    "print(\"Porcentaje de PRIMARIA\",   (contador_PRIMARIA/contador_escuelas)*100, \"%\")\n",
    "print(\"Porcentaje de SECUNDARIA\",  (contador_SECUNDARIA/contador_escuelas)*100, \"%\")\n",
    "print(\"Porcentaje de BACHILLERATO\",(contador_BACHILLERATO/contador_escuelas)*100,\"%\")"
   ]
  },
  {
   "cell_type": "markdown",
   "metadata": {},
   "source": [
    "<div class=\"alert alert-info\">\n",
    " <ul>\n",
    "  <li>Encuentre el numero total de estudiantes en nivel PRIMARIA</li>\n",
    "</ul> \n",
    "\n",
    "</div>"
   ]
  },
  {
   "cell_type": "code",
   "execution_count": 7,
   "metadata": {},
   "outputs": [
    {
     "name": "stdout",
     "output_type": "stream",
     "text": [
      "El numero de estudiantes en primaria es: 196298\n"
     ]
    }
   ],
   "source": [
    "contador_estudiantes_PRIMARIA=0\n",
    "with open('datos/cct_estadistica_short.csv') as archivo_csv:\n",
    "    datos_csv = list( csv.reader(archivo_csv) )\n",
    "    for dato in datos_csv:\n",
    "        #print(dato[10])\n",
    "        if dato[10] == 'PRIMARIA':\n",
    "            contador_estudiantes_PRIMARIA += int (dato[32])\n",
    "print(\"El numero de estudiantes en primaria es:\", contador_estudiantes_PRIMARIA)\n"
   ]
  },
  {
   "cell_type": "markdown",
   "metadata": {},
   "source": [
    "<div class=\"alert alert-info\">\n",
    " <ul>\n",
    "  <li>Encuentre el numero total de estudiantes hombres y mujeres en nivel PRIMARIA </li>\n",
    "</ul> \n",
    "\n",
    "</div>"
   ]
  },
  {
   "cell_type": "code",
   "execution_count": 8,
   "metadata": {},
   "outputs": [
    {
     "name": "stdout",
     "output_type": "stream",
     "text": [
      "El numero de estudiantes hombres en primaria es: 99972\n",
      "El numero de estudiantes mujeres en primaria es: 96326\n"
     ]
    }
   ],
   "source": [
    "contador_estudiantes_primaria_hombres=0\n",
    "contador_estudiantes_primaria_mujeres=0\n",
    "with open('datos/cct_estadistica_short.csv') as archivo_csv:\n",
    "    datos_csv = list( csv.reader(archivo_csv) )\n",
    "    for dato in datos_csv:\n",
    "        if \"PRIMARIA\" in dato[10]:\n",
    "            contador_estudiantes_primaria_hombres+= int(dato[30])\n",
    "            contador_estudiantes_primaria_mujeres+= int(dato[31])\n",
    "print('El numero de estudiantes hombres en primaria es:',contador_estudiantes_primaria_hombres)\n",
    "print('El numero de estudiantes mujeres en primaria es:',contador_estudiantes_primaria_mujeres)"
   ]
  },
  {
   "cell_type": "markdown",
   "metadata": {},
   "source": [
    "<div class=\"alert alert-info\">\n",
    " <ul>\n",
    "  <li>Encuentre el numero total de municipios con el string \"ZAPO\" , ejemplo ZAPOPAN, ZAPOTILTIC, etc </li>\n",
    "</ul> \n",
    "\n",
    "</div>"
   ]
  },
  {
   "cell_type": "code",
   "execution_count": 12,
   "metadata": {},
   "outputs": [
    {
     "name": "stdout",
     "output_type": "stream",
     "text": [
      " Numero de municipios : 461\n"
     ]
    }
   ],
   "source": [
    "contador_municipios_ZAPO=0\n",
    "with open('datos/cct_estadistica_short.csv') as archivo_csv:\n",
    "    datos_csv = list( csv.reader(archivo_csv) )\n",
    "    for dato in datos_csv:\n",
    "        if \"ZAPO\" in dato[8]:\n",
    "            contador_municipios_ZAPO+=1\n",
    "\n",
    "print(' Numero de municipios :', contador_municipios_ZAPO)"
   ]
  },
  {
   "cell_type": "markdown",
   "metadata": {},
   "source": [
    "# TAREA"
   ]
  },
  {
   "cell_type": "markdown",
   "metadata": {},
   "source": [
    "<div class=\"alert alert-success\">\n",
    " <ul>\n",
    "  <li>1. Encuentre el número de estudiantes por nivel educativo (PRIMARIA, SECUNDARIA y BACHILLERATO). ¿Qué puede decir acerca de los resultados?</li>\n",
    "</ul> \n",
    "\n",
    "</div>"
   ]
  },
  {
   "cell_type": "code",
   "execution_count": 13,
   "metadata": {},
   "outputs": [
    {
     "name": "stdout",
     "output_type": "stream",
     "text": [
      "El numero de estudiantes en primaria es: 196298\n",
      "El numero de estudiantes en secundaria es: 102051\n",
      "El numero de estudiantes en bachillerato es: 29768\n"
     ]
    }
   ],
   "source": [
    "contador_estudiantes_primaria=0\n",
    "contador_estudiantes_secundaria=0\n",
    "contador_estudiantes_bachillerto=0\n",
    "with open('datos/cct_estadistica_short.csv') as archivo_csv:\n",
    "    datos_csv = list( csv.reader(archivo_csv) )\n",
    "    for dato in datos_csv:\n",
    "        if \"PRIMARIA\" in dato[10]:\n",
    "            contador_estudiantes_primaria+= int(dato[32])\n",
    "        elif \"SECUNDARIA\" in dato[10]:\n",
    "            contador_estudiantes_secundaria+= int (dato[32])\n",
    "        elif \"BACHILLERATO\" in dato[10]:\n",
    "            contador_estudiantes_bachillerto+= int(dato[32])\n",
    "print('El numero de estudiantes en primaria es:',contador_estudiantes_primaria)\n",
    "print('El numero de estudiantes en secundaria es:',contador_estudiantes_secundaria)\n",
    "print('El numero de estudiantes en bachillerato es:',contador_estudiantes_bachillerto)\n"
   ]
  },
  {
   "cell_type": "markdown",
   "metadata": {},
   "source": [
    "De este análisis se puede observar que la mayoría de estudiantes se encuentra cursando el nivel primaria por lo que se afirma que la población infantil es mayor comparada con los adolescentes."
   ]
  },
  {
   "cell_type": "markdown",
   "metadata": {},
   "source": [
    "<div class=\"alert alert-success\">\n",
    " <ul>\n",
    "  <li>2. Encuentre el número de estudiantes hombres y mujeres por nivel educativo (PRIMARIA, SECUNDARIA y BACHILLERATO). ¿Qué puede decir acerca de los resultados?.  </li>\n",
    "</ul> \n",
    "\n",
    "</div>"
   ]
  },
  {
   "cell_type": "code",
   "execution_count": 14,
   "metadata": {},
   "outputs": [
    {
     "name": "stdout",
     "output_type": "stream",
     "text": [
      "El numero de estudiantes hombres en primaria es: 99972\n",
      "El numero de estudiantes mujeres en primaria es: 96326\n",
      "El numero de estudiantes hombres en secundaria es: 51867\n",
      "El numero de estudiantes mujeres en secundaria es: 50184\n",
      "El numero de estudiantes hombres en bachillerato es: 15453\n",
      "El numero de estudiantes mujeres en bachillerato es: 14315\n"
     ]
    }
   ],
   "source": [
    "contador_estudiantes_primaria_hombres=0\n",
    "contador_estudiantes_primaria_mujeres=0\n",
    "contador_estudiantes_secundaria_hombres=0\n",
    "contador_estudiantes_secundaria_mujeres=0\n",
    "contador_estudiantes_bachillerto_hombres=0\n",
    "contador_estudiantes_bachillerto_mujeres=0\n",
    "with open('datos/cct_estadistica_short.csv') as archivo_csv:\n",
    "    datos_csv = list( csv.reader(archivo_csv) )\n",
    "    for dato in datos_csv:\n",
    "        if \"PRIMARIA\" in dato[10]:\n",
    "            contador_estudiantes_primaria_hombres+= int(dato[30])\n",
    "            contador_estudiantes_primaria_mujeres+= int(dato[31])\n",
    "        elif \"SECUNDARIA\" in dato[10]:\n",
    "            contador_estudiantes_secundaria_hombres+= int (dato[30])\n",
    "            contador_estudiantes_secundaria_mujeres+= int (dato[31])\n",
    "        elif \"BACHILLERATO\" in dato[10]:\n",
    "            contador_estudiantes_bachillerto_hombres+= int(dato[30])\n",
    "            contador_estudiantes_bachillerto_mujeres+= int(dato[31])\n",
    "print('El numero de estudiantes hombres en primaria es:',contador_estudiantes_primaria_hombres)\n",
    "print('El numero de estudiantes mujeres en primaria es:',contador_estudiantes_primaria_mujeres)\n",
    "print('El numero de estudiantes hombres en secundaria es:',contador_estudiantes_secundaria_hombres)\n",
    "print('El numero de estudiantes mujeres en secundaria es:',contador_estudiantes_secundaria_mujeres)\n",
    "print('El numero de estudiantes hombres en bachillerato es:',contador_estudiantes_bachillerto_hombres)\n",
    "print('El numero de estudiantes mujeres en bachillerato es:',contador_estudiantes_bachillerto_mujeres)"
   ]
  },
  {
   "cell_type": "markdown",
   "metadata": {},
   "source": [
    "El número de estudiantes hombres y mujeres en cada nivel educativo está cercano a ser 50% en cada grupo de nivel educativo, siendo un caso extraño que haya más hombres que mujeres."
   ]
  },
  {
   "cell_type": "markdown",
   "metadata": {},
   "source": [
    "<div class=\"alert alert-success\">\n",
    " <ul>\n",
    "  <li> 3. ¿Cuál es el promedio de docentes por nivel educativo?  </li>\n",
    "</ul> \n",
    "\n",
    "</div>"
   ]
  },
  {
   "cell_type": "code",
   "execution_count": 15,
   "metadata": {},
   "outputs": [
    {
     "name": "stdout",
     "output_type": "stream",
     "text": [
      "El promedio de maestros en nivel preescolar es: 2.6612529002320184\n",
      "El promedio de maestros en nivel primaria es: 5.662754303599374\n",
      "El promedio de maestros en nivel secundaria es: 12.412371134020619\n",
      "El promedio de maestros en nivel bachillerato es: 10.348993288590604\n"
     ]
    }
   ],
   "source": [
    "contador_maestros_preescolar=0\n",
    "contador_maestros_primaria=0\n",
    "contador_maestros_secundaria=0\n",
    "contador_maestros_bachillerato=0\n",
    "contador_preescolar=0\n",
    "contador_primaria=0\n",
    "contador_secundaria=0\n",
    "contador_bachillerato=0\n",
    "with open('datos/cct_estadistica_short.csv') as archivo_csv:\n",
    "    datos_csv = list( csv.reader(archivo_csv) )\n",
    "    for dato in datos_csv:\n",
    "        if \"PREESCOLAR\" in dato[10]:\n",
    "            contador_maestros_preescolar+=int(dato[33])\n",
    "            contador_preescolar+=1\n",
    "        elif \"PRIMARIA\" in dato[10]:\n",
    "            contador_maestros_primaria+= int(dato[33])\n",
    "            contador_primaria+=1\n",
    "        elif \"SECUNDARIA\" in dato[10]:\n",
    "            contador_maestros_secundaria+= int(dato[33])\n",
    "            contador_secundaria+=1\n",
    "        elif \"BACHILLERATO\" in dato[10]:\n",
    "           contador_maestros_bachillerato+= int(dato[33])\n",
    "           contador_bachillerato+=1\n",
    "print ('El promedio de maestros en nivel preescolar es:', contador_maestros_preescolar/contador_preescolar)\n",
    "print ('El promedio de maestros en nivel primaria es:', contador_maestros_primaria/contador_primaria)\n",
    "print ('El promedio de maestros en nivel secundaria es:', contador_maestros_secundaria/contador_secundaria)\n",
    "print ('El promedio de maestros en nivel bachillerato es:', contador_maestros_bachillerato/contador_bachillerato)"
   ]
  },
  {
   "cell_type": "markdown",
   "metadata": {},
   "source": [
    "<div class=\"alert alert-success\">\n",
    " <ul>\n",
    "  <li> 4. Encuentre el porcentaje de  escuelas Particulares </li>\n",
    "</ul> \n",
    "\n",
    "</div>\n"
   ]
  },
  {
   "cell_type": "code",
   "execution_count": 16,
   "metadata": {},
   "outputs": [
    {
     "name": "stdout",
     "output_type": "stream",
     "text": [
      "El porcentaje de escuelas particulares es: 17.254290171606865\n"
     ]
    }
   ],
   "source": [
    "contador_privadas=0\n",
    "total_escuelas=0\n",
    "porcentaje=0\n",
    "with open('datos/cct_estadistica_short.csv') as archivo_csv:\n",
    "    datos_csv = list( csv.reader(archivo_csv) )\n",
    "    for dato in datos_csv:\n",
    "        total_escuelas+=1\n",
    "        if dato[9] == 'PARTICULAR':\n",
    "            contador_privadas+=1   \n",
    "    total_escuelas-=1\n",
    "    porcentaje = (contador_privadas/total_escuelas)*100\n",
    "print('El porcentaje de escuelas particulares es:',porcentaje)\n"
   ]
  },
  {
   "cell_type": "markdown",
   "metadata": {},
   "source": [
    "<div class=\"alert alert-success\">\n",
    " <ul>\n",
    "  <li> 5. Realizar algún análisis adicional  </li>\n",
    "</ul> \n",
    "\n",
    "</div>"
   ]
  },
  {
   "cell_type": "markdown",
   "metadata": {},
   "source": [
    "<div class=\"alert alert-success\">\n",
    " <ul>\n",
    "  <li> La escuela con mayor numero de alumnos </li>\n",
    "</ul> \n",
    "\n",
    "</div>\n"
   ]
  },
  {
   "cell_type": "code",
   "execution_count": 22,
   "metadata": {
    "tags": []
   },
   "outputs": [
    {
     "name": "stdout",
     "output_type": "stream",
     "text": [
      "La escuela VILLA DE LOS NI„OS de nivel SECUNDARIA cuenta con 1414 alumnos inscritos\n"
     ]
    }
   ],
   "source": [
    "#Creo una nueva lista vacia\n",
    "nueva_lista=[]\n",
    "with open('datos/cct_estadistica_short.csv') as archivo_csv:\n",
    "    #Me salto la primera línea de los archivos puesto que es el encabezado\n",
    "    next(archivo_csv)\n",
    "    datos_csv = list( csv.reader(archivo_csv) )\n",
    "    #Agrego el nombre, nivel educativo y numero total de matricula como numero entero a la lista vacía creada anteriormente\n",
    "    for dato in datos_csv:\n",
    "        nueva_lista.append([dato[2],dato[10],int(dato[32])])\n",
    "#Creo una nueva lista ordenada de mayor a menor según el número de alumnos inscritos en las escuelas\n",
    "lista_ordenada=sorted(nueva_lista, key=lambda indice: indice[2], reverse=True)\n",
    "print (\"La escuela\",lista_ordenada[0][0],\"de nivel\", lista_ordenada[0][1], \"cuenta con\", lista_ordenada[0][2], \"alumnos inscritos\")"
   ]
  },
  {
   "cell_type": "markdown",
   "metadata": {},
   "source": [
    "<div class=\"alert alert-warning\">\n",
    " <ul>\n",
    "  <li> Opcional </li>\n",
    "</ul> \n",
    "\n",
    "<table>\n",
    "<col width=\"550\">\n",
    "<col width=\"450\">\n",
    "<tr>\n",
    "<td><img src=\"figuras/challlenge.jpg\" align=\"middle\" style=\"width:500px\"/></td>\n",
    "<td>\n",
    "\n",
    "1. ¿Cuáles los 5 municipios con el mayor número de escuelas y cuantas tienen?\n",
    "    \n",
    "<br>\n",
    "</td>\n",
    "</tr>\n",
    "</table>"
   ]
  },
  {
   "cell_type": "code",
   "execution_count": 18,
   "metadata": {},
   "outputs": [
    {
     "name": "stdout",
     "output_type": "stream",
     "text": [
      "[('GUADALAJARA', 387), ('ZAPOPAN', 346), ('SAN PEDRO TLAQUEPAQUE', 117), ('TLAJOMULCO DE ZU„IGA', 111), ('TONALA', 103)]\n"
     ]
    }
   ],
   "source": [
    "conteo={}\n",
    "with open('datos/cct_estadistica_short.csv') as archivo_csv:\n",
    "    #Me salto la primera línea de los archivos puesto que es el encabezado\n",
    "    next(archivo_csv)\n",
    "    datos_csv = list( csv.reader(archivo_csv) )\n",
    "    for dato in datos_csv:\n",
    "        conteo[dato[8]]=conteo.get(dato[8],0)+1\n",
    "\n",
    "municipios_ordenados=sorted(conteo.items(), key=lambda indice: indice[1], reverse=True)\n",
    "\n",
    "print(municipios_ordenados[:5])\n"
   ]
  },
  {
   "cell_type": "code",
   "execution_count": null,
   "metadata": {},
   "outputs": [],
   "source": []
  }
 ],
 "metadata": {
  "kernelspec": {
   "display_name": "Python 3 (ipykernel)",
   "language": "python",
   "name": "python3"
  },
  "language_info": {
   "codemirror_mode": {
    "name": "ipython",
    "version": 3
   },
   "file_extension": ".py",
   "mimetype": "text/x-python",
   "name": "python",
   "nbconvert_exporter": "python",
   "pygments_lexer": "ipython3",
   "version": "3.10.0"
  },
  "toc-autonumbering": false,
  "toc-showcode": false,
  "toc-showmarkdowntxt": true
 },
 "nbformat": 4,
 "nbformat_minor": 4
}

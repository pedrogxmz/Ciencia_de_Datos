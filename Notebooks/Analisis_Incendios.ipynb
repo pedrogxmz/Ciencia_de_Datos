{
 "cells": [
  {
   "cell_type": "markdown",
   "metadata": {},
   "source": [
    "# Incendios en México\n",
    "En México, se registran anualmente un promedio de 8 mil incendios forestales que afectan los diferentes ecosistemas terrestres en diversos grados. El año de 1998 ha sido considerado el de mayor desastre a nivel nacional, con 14 mil 428 incendios y 848 mil 960 hectáreas afectadas.  \n",
    "\n",
    "https://datos.gob.mx/busca/dataset/incendios-forestales\n",
    "\n"
   ]
  },
  {
   "cell_type": "markdown",
   "metadata": {},
   "source": [
    "# Librerías"
   ]
  },
  {
   "cell_type": "markdown",
   "metadata": {},
   "source": [
    "Cargamos las bibliotecas que necesitamos "
   ]
  },
  {
   "cell_type": "code",
   "execution_count": 1,
   "metadata": {
    "tags": []
   },
   "outputs": [],
   "source": [
    "import csv\n",
    "import matplotlib.pyplot as plt"
   ]
  },
  {
   "cell_type": "markdown",
   "metadata": {},
   "source": [
    "# Información de los datos\n",
    "\n",
    "Fuente:\n",
    "https://datos.gob.mx/busca/dataset/incendios-forestales"
   ]
  },
  {
   "cell_type": "code",
   "execution_count": 3,
   "metadata": {
    "tags": []
   },
   "outputs": [],
   "source": [
    "#  En caso de error, cerrar y colocar en el CMD\n",
    "#  jupyter notebook --NotebookApp.iopub_data_rate_limit=1e10\n",
    "\n",
    "with open('datos/BD_IncendiosSNIF_2021.csv') as archivo_csv:\n",
    "    datos_csv = csv.reader(archivo_csv)\n",
    "    #print(list(datos_csv))"
   ]
  },
  {
   "cell_type": "markdown",
   "metadata": {},
   "source": [
    "# TAREA"
   ]
  },
  {
   "cell_type": "markdown",
   "metadata": {},
   "source": [
    "<div class=\"alert alert-success\">\n",
    " <ul>\n",
    "  <li>1. Encuentre el total  de hectáreas afectadas </li>\n",
    "\n",
    "</ul> \n",
    "\n",
    "</div>"
   ]
  },
  {
   "cell_type": "code",
   "execution_count": 4,
   "metadata": {
    "tags": []
   },
   "outputs": [
    {
     "name": "stdout",
     "output_type": "stream",
     "text": [
      "El total de hectareas afectadas son: 660734.5697619981\n"
     ]
    }
   ],
   "source": [
    "total_htas=0\n",
    "with open('datos/BD_IncendiosSNIF_2021.csv') as archivo_csv:\n",
    "    next(archivo_csv)\n",
    "    datos_csv = list(csv.reader(archivo_csv))\n",
    "    for dato in datos_csv:\n",
    "        total_htas+=float(dato[32])\n",
    "    print(\"El total de hectareas afectadas son:\",total_htas)\n",
    "    "
   ]
  },
  {
   "cell_type": "markdown",
   "metadata": {},
   "source": [
    "<div class=\"alert alert-success\">\n",
    " <ul>\n",
    "  <li>2. ¿En donde fue (estado y municipio) el incendio con mayor número de hectáreas afectadas y cuantas fueron  ?</li>\n",
    "\n",
    "</ul> \n",
    "\n",
    "</div>"
   ]
  },
  {
   "cell_type": "code",
   "execution_count": 5,
   "metadata": {
    "tags": []
   },
   "outputs": [
    {
     "name": "stdout",
     "output_type": "stream",
     "text": [
      "El incendio ocurrido en Coyuca de Catalï¿½n                         en el estado de Guerrero             afecto un total de 19102.32 hectareas\n"
     ]
    }
   ],
   "source": [
    "htas_municipio_estado=[]\n",
    "with open('datos/BD_IncendiosSNIF_2021.csv') as archivo_csv:\n",
    "    next(archivo_csv)\n",
    "    datos_csv = list(csv.reader(archivo_csv))\n",
    "    for dato in datos_csv:\n",
    "        #Agrego a la nueva lista el valor de las hectareas, municipio y estado\n",
    "        htas_municipio_estado.append([float(dato[32]),dato[12],dato[11]])\n",
    "lista_ordenada=sorted(htas_municipio_estado, key=lambda indice: indice[0], reverse=True )\n",
    "print(\"El incendio ocurrido en\",lista_ordenada[0][1],\"en el estado de\", lista_ordenada[0][2],\"afecto un total de\", lista_ordenada[0][0],\"hectareas\")"
   ]
  },
  {
   "cell_type": "markdown",
   "metadata": {},
   "source": [
    "<div class=\"alert alert-success\">\n",
    " <ul>\n",
    "  <li>3. Encuentre el número de incendios por tipo </li>\n",
    "     \n",
    "* De copa\n",
    "* Mixto\n",
    "* Subterráneo\n",
    "* Superficial\n",
    "\n",
    "</ul> \n",
    "\n",
    "</div>"
   ]
  },
  {
   "cell_type": "code",
   "execution_count": 6,
   "metadata": {},
   "outputs": [
    {
     "name": "stdout",
     "output_type": "stream",
     "text": [
      "{'Superficial      ': 6971, 'Mixto            ': 353, 'De copa          ': 1, 'Subterrï¿½neo      ': 11, 'superficial      ': 1}\n"
     ]
    }
   ],
   "source": [
    "tipo_incendio={}\n",
    "with open('datos/BD_IncendiosSNIF_2021.csv') as archivo_csv:\n",
    "    next(archivo_csv)\n",
    "    datos_csv = list(csv.reader(archivo_csv))\n",
    "    for dato in datos_csv:\n",
    "        tipo_incendio[dato[23]]=tipo_incendio.get(dato[23],0)+1\n",
    "print(tipo_incendio)"
   ]
  },
  {
   "cell_type": "markdown",
   "metadata": {},
   "source": [
    "<div class=\"alert alert-success\">\n",
    " <ul>\n",
    "  <li>4. Encuentre el número de incendios reportados por estado </li>\n",
    "     \n",
    "</ul> \n",
    "\n",
    "</div>"
   ]
  },
  {
   "cell_type": "code",
   "execution_count": 7,
   "metadata": {},
   "outputs": [
    {
     "name": "stdout",
     "output_type": "stream",
     "text": [
      "{'Aguascalientes      ': 37, 'Baja California     ': 79, 'Baja California Sur ': 5, 'Campeche            ': 5, 'Chiapas             ': 278, 'Chihuahua           ': 657, 'Ciudad de Mï¿½xico    ': 896, 'Coahuila            ': 53, 'Colima              ': 38, 'Durango             ': 270, 'Guanajuato          ': 25, 'Guerrero            ': 198, 'Hidalgo             ': 70, 'Jalisco             ': 1031, 'Mï¿½xico              ': 1494, 'Michoacï¿½n           ': 636, 'Morelos             ': 154, 'Nayarit             ': 103, 'Nuevo Leï¿½n          ': 51, 'Oaxaca              ': 151, 'Puebla              ': 313, 'Querï¿½taro           ': 51, 'Quintana Roo        ': 33, 'San Luis Potosï¿½     ': 78, 'Sinaloa             ': 23, 'Sonora              ': 31, 'Tabasco             ': 12, 'Tamaulipas          ': 25, 'Tlaxcala            ': 275, 'Veracruz            ': 158, 'Yucatï¿½n             ': 15, 'Zacatecas           ': 92}\n"
     ]
    }
   ],
   "source": [
    "estado_reportado={}\n",
    "with open('datos/BD_IncendiosSNIF_2021.csv') as archivo_csv:\n",
    "    next(archivo_csv)\n",
    "    datos_csv = list(csv.reader(archivo_csv))\n",
    "    for dato in datos_csv:\n",
    "        estado_reportado[dato[11]]=estado_reportado.get(dato[11],0)+1\n",
    "print(estado_reportado)"
   ]
  },
  {
   "cell_type": "markdown",
   "metadata": {},
   "source": [
    "<div class=\"alert alert-success\">\n",
    " <ul>\n",
    "  <li> 5. Encuentre el número de incendios reportados en los municipios de Yucatán </li>\n",
    "</ul> \n",
    "\n",
    "</div>"
   ]
  },
  {
   "cell_type": "code",
   "execution_count": 8,
   "metadata": {},
   "outputs": [
    {
     "name": "stdout",
     "output_type": "stream",
     "text": [
      "Se reportaron 15 incendios en los municipios de Yucatán\n"
     ]
    }
   ],
   "source": [
    "contador=0\n",
    "with open('datos/BD_IncendiosSNIF_2021.csv') as archivo_csv:\n",
    "    next(archivo_csv)\n",
    "    datos_csv = list(csv.reader(archivo_csv))\n",
    "    for dato in datos_csv:\n",
    "        if 'Yuca' in dato[11]:\n",
    "           contador+=1\n",
    "print('Se reportaron', contador, 'incendios en los municipios de Yucatán')"
   ]
  },
  {
   "cell_type": "code",
   "execution_count": null,
   "metadata": {},
   "outputs": [],
   "source": []
  }
 ],
 "metadata": {
  "kernelspec": {
   "display_name": "Python 3 (ipykernel)",
   "language": "python",
   "name": "python3"
  },
  "language_info": {
   "codemirror_mode": {
    "name": "ipython",
    "version": 3
   },
   "file_extension": ".py",
   "mimetype": "text/x-python",
   "name": "python",
   "nbconvert_exporter": "python",
   "pygments_lexer": "ipython3",
   "version": "3.10.0"
  }
 },
 "nbformat": 4,
 "nbformat_minor": 4
}
